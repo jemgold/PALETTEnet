{
 "cells": [
  {
   "cell_type": "code",
   "execution_count": 7,
   "metadata": {},
   "outputs": [],
   "source": [
    "from keras.models import load_model\n",
    "from flask import Flask, current_app, request, jsonify\n",
    "import numpy as np"
   ]
  },
  {
   "cell_type": "code",
   "execution_count": 2,
   "metadata": {
    "collapsed": true
   },
   "outputs": [],
   "source": [
    "model = load_model('final.h5')\n",
    "\n",
    "app = Flask(__name__)\n",
    "@app.route('/', methods=['POST'])\n",
    "def predict():\n",
    "    data = {}\n",
    "    try:\n",
    "        data = request.get_json()['data']\n",
    "    except Exception:\n",
    "        return jsonify(status_code='400', msg='Bad Request'), 400\n",
    "\n",
    "    return jsonify(data)\n",
    "#     text = np.zeros((1,MAX_LEN))\n",
    "#     color = np.array([[ data['h'], data['s'], data['v']]])\n",
    "    \n",
    "#     words = []\n",
    "#     for word in range(2):\n",
    "#         pred = model.predict([text, color])\n",
    "#         w = np.argmax(pred[0, word, :])\n",
    "#         words.append(token_index.get(w))\n",
    "    \n",
    "#     fname = ' '.join(words)\n"
   ]
  },
  {
   "cell_type": "code",
   "execution_count": 3,
   "metadata": {},
   "outputs": [
    {
     "data": {
      "text/plain": [
       "<keras.engine.training.Model at 0x7f222c24cef0>"
      ]
     },
     "execution_count": 3,
     "metadata": {},
     "output_type": "execute_result"
    }
   ],
   "source": [
    "app.r"
   ]
  },
  {
   "cell_type": "code",
   "execution_count": null,
   "metadata": {
    "collapsed": true
   },
   "outputs": [],
   "source": []
  }
 ],
 "metadata": {
  "kernelspec": {
   "display_name": "Python 3",
   "language": "python",
   "name": "python3"
  },
  "language_info": {
   "codemirror_mode": {
    "name": "ipython",
    "version": 3
   },
   "file_extension": ".py",
   "mimetype": "text/x-python",
   "name": "python",
   "nbconvert_exporter": "python",
   "pygments_lexer": "ipython3",
   "version": "3.5.3"
  }
 },
 "nbformat": 4,
 "nbformat_minor": 2
}
