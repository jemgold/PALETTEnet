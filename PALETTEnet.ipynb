{
 "cells": [
  {
   "cell_type": "markdown",
   "metadata": {},
   "source": [
    "# Recurrent Color Captioning\n",
    "\n",
    "This project aims to improve upon the results of previous attempts at captioning colors!\n",
    "\n",
    "The data is derived from the [Sherwin Williams](https://www.sherwin-williams.com) color catalog but could be improved e.g. by pulling data from [COLOURlovers](http://www.colourlovers.com/)\n",
    "\n",
    "### Reference points:\n",
    "- Shane - [New paint colors invented by neural network](http://lewisandquark.tumblr.com/post/160776374467/new-paint-colors-invented-by-neural-network) - generates names _and colors_\n",
    "- Platt - [`paint_color_names`](https://github.com/devinplatt/paint-color-names) - uses Keras, simple DNN architecture\n",
    "\n",
    "### Neural Captioning:\n",
    "- The main reference in this instance is Vinyals et al's [Show and Tell: A Neural Image Caption Generator](https://arxiv.org/pdf/1411.4555.pdf), but _we don't need our \n",
    "- https://github.com/karpathy/neuraltalk2\n",
    "- [`caption_generator`](https://github.com/anuragmishracse/caption_generator) - based off of Vinyals's model, in Keras.\n",
    "- https://github.com/oarriaga/neural_image_captioning\n",
    "- [Grounded Compositional Semantics for Finding and Describing Images with Sentences](https://nlp.stanford.edu/~socherr/SocherKarpathyLeManningNg_TACL2013.pdf) - Socher, Karpathy\n",
    "\n",
    "### Thoughts:\n",
    "- Shane & Platt both seem to feed colors as RGB values - I think using HSL as a base could be more interesting.\n",
    "- Platt's code doesn't use an RNN - let's trying running the color names though an LSTM\n",
    "- this is my first multi-input model, I have no idea what I'm doing"
   ]
  },
  {
   "cell_type": "code",
   "execution_count": 368,
   "metadata": {
    "collapsed": true
   },
   "outputs": [],
   "source": [
    "import numpy as np\n",
    "import os\n",
    "from colorsys import rgb_to_hsv, hsv_to_rgb\n",
    "\n",
    "import keras\n",
    "from keras.layers import Input, Dense, Embedding, LSTM, TimeDistributed, concatenate, Activation\n",
    "from keras.layers.core import RepeatVector\n",
    "from keras.models import Model\n",
    "from keras.preprocessing.sequence import pad_sequences\n",
    "from keras.preprocessing.text import Tokenizer\n",
    "from keras.utils import get_file"
   ]
  },
  {
   "cell_type": "code",
   "execution_count": 206,
   "metadata": {
    "collapsed": true
   },
   "outputs": [],
   "source": [
    "EMBEDDING_DIM = 100\n",
    "MAX_LEN = 3 # max length of color name - nothing gets this long though"
   ]
  },
  {
   "cell_type": "code",
   "execution_count": 207,
   "metadata": {},
   "outputs": [],
   "source": [
    "def process_line(line):\n",
    "    l = line.strip().split('\\t')\n",
    "    \n",
    "    _, name, r, g, b = l\n",
    "    \n",
    "    hsv = rgb_to_hsv(\n",
    "        int(r) / 255,\n",
    "        int(g) / 255,\n",
    "        int(b) / 255\n",
    "    )\n",
    "    \n",
    "    return name, hsv"
   ]
  },
  {
   "cell_type": "code",
   "execution_count": 208,
   "metadata": {},
   "outputs": [],
   "source": [
    "text = get_file('sherwin.txt', 'https://raw.githubusercontent.com/devinplatt/paint-color-names/master/sherwin.txt')\n",
    "lines = [process_line(line) for line in open(text)]"
   ]
  },
  {
   "cell_type": "code",
   "execution_count": 222,
   "metadata": {},
   "outputs": [
    {
     "data": {
      "text/plain": [
       "[('Mulberry Silk',\n",
       "  (0.04878048780487804, 0.2751677852348994, 0.5843137254901961)),\n",
       " ('Chelsea Mauve',\n",
       "  (0.0752688172043011, 0.16402116402116404, 0.7411764705882353)),\n",
       " ('Cabbage Rose',\n",
       "  (0.04901960784313719, 0.2562814070351758, 0.7803921568627451))]"
      ]
     },
     "execution_count": 222,
     "metadata": {},
     "output_type": "execute_result"
    }
   ],
   "source": [
    "lines[:3]"
   ]
  },
  {
   "cell_type": "code",
   "execution_count": 310,
   "metadata": {},
   "outputs": [
    {
     "data": {
      "text/plain": [
       "(1534, 3)"
      ]
     },
     "execution_count": 310,
     "metadata": {},
     "output_type": "execute_result"
    }
   ],
   "source": [
    "color_data_in = np.array([line[1] for line in lines])\n",
    "color_data_in.shape"
   ]
  },
  {
   "cell_type": "code",
   "execution_count": 210,
   "metadata": {},
   "outputs": [],
   "source": [
    "texts = [line[0] for line in lines]\n",
    "\n",
    "tokenizer = Tokenizer(num_words=10000, )\n",
    "tokenizer.fit_on_texts(texts)\n",
    "\n",
    "# turn strings into lists of integer indicies\n",
    "sequences = tokenizer.texts_to_sequences(texts)"
   ]
  },
  {
   "cell_type": "code",
   "execution_count": 211,
   "metadata": {},
   "outputs": [
    {
     "name": "stdout",
     "output_type": "stream",
     "text": [
      "Found 1667 unique tokens.\n"
     ]
    }
   ],
   "source": [
    "word_index = tokenizer.word_index\n",
    "token_index = {token: word for word, token in tokenizer.word_index.items()}\n",
    "print('Found {} unique tokens.'.format(len(word_index)))"
   ]
  },
  {
   "cell_type": "code",
   "execution_count": 212,
   "metadata": {},
   "outputs": [
    {
     "data": {
      "text/plain": [
       "'Mulberry Silk'"
      ]
     },
     "execution_count": 212,
     "metadata": {},
     "output_type": "execute_result"
    }
   ],
   "source": [
    "texts[0]"
   ]
  },
  {
   "cell_type": "code",
   "execution_count": 213,
   "metadata": {},
   "outputs": [],
   "source": [
    "data = pad_sequences(sequences, maxlen=MAX_LEN)"
   ]
  },
  {
   "cell_type": "code",
   "execution_count": 214,
   "metadata": {},
   "outputs": [
    {
     "data": {
      "text/plain": [
       "(1534,)"
      ]
     },
     "execution_count": 214,
     "metadata": {},
     "output_type": "execute_result"
    }
   ],
   "source": [
    "indicies = np.arange(data.shape[0])\n",
    "indicies.shape"
   ]
  },
  {
   "cell_type": "code",
   "execution_count": null,
   "metadata": {},
   "outputs": [],
   "source": []
  },
  {
   "cell_type": "markdown",
   "metadata": {},
   "source": [
    "now, let's prepare the embeddings layer"
   ]
  },
  {
   "cell_type": "code",
   "execution_count": 215,
   "metadata": {},
   "outputs": [
    {
     "name": "stdout",
     "output_type": "stream",
     "text": [
      "Found 400000 word vectors.\n"
     ]
    }
   ],
   "source": [
    "import os\n",
    "\n",
    "embeddings_index = {}\n",
    "GLOVE_DIR = \"/home/ubuntu/.keras/glove\"\n",
    "\n",
    "f = open(os.path.join(GLOVE_DIR, 'glove.6B.100d.txt'))\n",
    "\n",
    "for line in f:\n",
    "    values = line.split()\n",
    "    word = values[0]\n",
    "    coefs = np.asarray(values[1:], dtype='float32')\n",
    "    embeddings_index[word] = coefs\n",
    "\n",
    "f.close()\n",
    "\n",
    "print('Found {} word vectors.'.format(len(embeddings_index)))"
   ]
  },
  {
   "cell_type": "code",
   "execution_count": 216,
   "metadata": {},
   "outputs": [],
   "source": [
    "embedding_matrix = np.zeros((len(word_index) + 1, EMBEDDING_DIM))\n",
    "not_found = []\n",
    "for word, i in word_index.items():\n",
    "    embedding_vector = embeddings_index.get(word)\n",
    "    if embedding_vector is None:\n",
    "        not_found.append(word)\n",
    "    else:\n",
    "        embedding_matrix[i] = embedding_vector"
   ]
  },
  {
   "cell_type": "code",
   "execution_count": 217,
   "metadata": {},
   "outputs": [],
   "source": [
    "embeddingLayer = Embedding(len(word_index) + 1,\n",
    "                           EMBEDDING_DIM,\n",
    "                           weights=[embedding_matrix],\n",
    "                           input_length=MAX_LEN,\n",
    "                            trainable=False)"
   ]
  },
  {
   "cell_type": "markdown",
   "metadata": {},
   "source": [
    "and now the model"
   ]
  },
  {
   "cell_type": "code",
   "execution_count": 289,
   "metadata": {},
   "outputs": [],
   "source": [
    "vocab_size = len(word_index) + 1\n",
    "\n",
    "caption_input = Input(shape=(MAX_LEN,), dtype='int32', name='caption_input')\n",
    "embedding = embeddingLayer(caption_input)\n",
    "\n",
    "lstm_1 = LSTM(100, return_sequences=True)(embedding)\n",
    "tdd = TimeDistributed(Dense(EMBEDDING_DIM))(lstm_1)\n",
    "\n",
    "color_input = Input(shape=(3,), name='color_input')\n",
    "color_dense = Dense(EMBEDDING_DIM)(color_input)\n",
    "color_repeated = RepeatVector(MAX_LEN, )(color_dense)\n",
    "\n",
    "merged_layers = concatenate([tdd, color_repeated])\n",
    "\n",
    "lstm_2 = LSTM(1000, return_sequences=True)(merged_layers)\n",
    "\n",
    "output = TimeDistributed(Dense(vocab_size, activation='softmax'),\n",
    "                         name='output')(lstm_2)\n",
    "\n",
    "#output = Activation('softmax')(dense)\n",
    "\n",
    "model = Model(inputs=[caption_input, color_input], outputs=[output])\n"
   ]
  },
  {
   "cell_type": "code",
   "execution_count": 290,
   "metadata": {},
   "outputs": [
    {
     "data": {
      "image/svg+xml": [
       "<svg height=\"553pt\" viewBox=\"0.00 0.00 848.00 553.00\" width=\"848pt\" xmlns=\"http://www.w3.org/2000/svg\" xmlns:xlink=\"http://www.w3.org/1999/xlink\">\n",
       "<g class=\"graph\" id=\"graph0\" transform=\"scale(1 1) rotate(0) translate(4 549)\">\n",
       "<title>G</title>\n",
       "<polygon fill=\"white\" points=\"-4,4 -4,-549 844,-549 844,4 -4,4\" stroke=\"none\"/>\n",
       "<!-- 139851391029376 -->\n",
       "<g class=\"node\" id=\"node1\"><title>139851391029376</title>\n",
       "<polygon fill=\"none\" points=\"98,-498.5 98,-544.5 380,-544.5 380,-498.5 98,-498.5\" stroke=\"black\"/>\n",
       "<text font-family=\"Times,serif\" font-size=\"14.00\" text-anchor=\"middle\" x=\"177\" y=\"-517.8\">caption_input: InputLayer</text>\n",
       "<polyline fill=\"none\" points=\"256,-498.5 256,-544.5 \" stroke=\"black\"/>\n",
       "<text font-family=\"Times,serif\" font-size=\"14.00\" text-anchor=\"middle\" x=\"283.5\" y=\"-529.3\">input:</text>\n",
       "<polyline fill=\"none\" points=\"256,-521.5 311,-521.5 \" stroke=\"black\"/>\n",
       "<text font-family=\"Times,serif\" font-size=\"14.00\" text-anchor=\"middle\" x=\"283.5\" y=\"-506.3\">output:</text>\n",
       "<polyline fill=\"none\" points=\"311,-498.5 311,-544.5 \" stroke=\"black\"/>\n",
       "<text font-family=\"Times,serif\" font-size=\"14.00\" text-anchor=\"middle\" x=\"345.5\" y=\"-529.3\">(None, 3)</text>\n",
       "<polyline fill=\"none\" points=\"311,-521.5 380,-521.5 \" stroke=\"black\"/>\n",
       "<text font-family=\"Times,serif\" font-size=\"14.00\" text-anchor=\"middle\" x=\"345.5\" y=\"-506.3\">(None, 3)</text>\n",
       "</g>\n",
       "<!-- 139853506298432 -->\n",
       "<g class=\"node\" id=\"node2\"><title>139853506298432</title>\n",
       "<polygon fill=\"none\" points=\"79,-415.5 79,-461.5 399,-461.5 399,-415.5 79,-415.5\" stroke=\"black\"/>\n",
       "<text font-family=\"Times,serif\" font-size=\"14.00\" text-anchor=\"middle\" x=\"163\" y=\"-434.8\">embedding_28: Embedding</text>\n",
       "<polyline fill=\"none\" points=\"247,-415.5 247,-461.5 \" stroke=\"black\"/>\n",
       "<text font-family=\"Times,serif\" font-size=\"14.00\" text-anchor=\"middle\" x=\"274.5\" y=\"-446.3\">input:</text>\n",
       "<polyline fill=\"none\" points=\"247,-438.5 302,-438.5 \" stroke=\"black\"/>\n",
       "<text font-family=\"Times,serif\" font-size=\"14.00\" text-anchor=\"middle\" x=\"274.5\" y=\"-423.3\">output:</text>\n",
       "<polyline fill=\"none\" points=\"302,-415.5 302,-461.5 \" stroke=\"black\"/>\n",
       "<text font-family=\"Times,serif\" font-size=\"14.00\" text-anchor=\"middle\" x=\"350.5\" y=\"-446.3\">(None, 3)</text>\n",
       "<polyline fill=\"none\" points=\"302,-438.5 399,-438.5 \" stroke=\"black\"/>\n",
       "<text font-family=\"Times,serif\" font-size=\"14.00\" text-anchor=\"middle\" x=\"350.5\" y=\"-423.3\">(None, 3, 100)</text>\n",
       "</g>\n",
       "<!-- 139851391029376&#45;&gt;139853506298432 -->\n",
       "<g class=\"edge\" id=\"edge1\"><title>139851391029376-&gt;139853506298432</title>\n",
       "<path d=\"M239,-498.366C239,-490.152 239,-480.658 239,-471.725\" fill=\"none\" stroke=\"black\"/>\n",
       "<polygon fill=\"black\" points=\"242.5,-471.607 239,-461.607 235.5,-471.607 242.5,-471.607\" stroke=\"black\"/>\n",
       "</g>\n",
       "<!-- 139851391029656 -->\n",
       "<g class=\"node\" id=\"node4\"><title>139851391029656</title>\n",
       "<polygon fill=\"none\" points=\"110.5,-332.5 110.5,-378.5 367.5,-378.5 367.5,-332.5 110.5,-332.5\" stroke=\"black\"/>\n",
       "<text font-family=\"Times,serif\" font-size=\"14.00\" text-anchor=\"middle\" x=\"163\" y=\"-351.8\">lstm_70: LSTM</text>\n",
       "<polyline fill=\"none\" points=\"215.5,-332.5 215.5,-378.5 \" stroke=\"black\"/>\n",
       "<text font-family=\"Times,serif\" font-size=\"14.00\" text-anchor=\"middle\" x=\"243\" y=\"-363.3\">input:</text>\n",
       "<polyline fill=\"none\" points=\"215.5,-355.5 270.5,-355.5 \" stroke=\"black\"/>\n",
       "<text font-family=\"Times,serif\" font-size=\"14.00\" text-anchor=\"middle\" x=\"243\" y=\"-340.3\">output:</text>\n",
       "<polyline fill=\"none\" points=\"270.5,-332.5 270.5,-378.5 \" stroke=\"black\"/>\n",
       "<text font-family=\"Times,serif\" font-size=\"14.00\" text-anchor=\"middle\" x=\"319\" y=\"-363.3\">(None, 3, 100)</text>\n",
       "<polyline fill=\"none\" points=\"270.5,-355.5 367.5,-355.5 \" stroke=\"black\"/>\n",
       "<text font-family=\"Times,serif\" font-size=\"14.00\" text-anchor=\"middle\" x=\"319\" y=\"-340.3\">(None, 3, 100)</text>\n",
       "</g>\n",
       "<!-- 139853506298432&#45;&gt;139851391029656 -->\n",
       "<g class=\"edge\" id=\"edge2\"><title>139853506298432-&gt;139851391029656</title>\n",
       "<path d=\"M239,-415.366C239,-407.152 239,-397.658 239,-388.725\" fill=\"none\" stroke=\"black\"/>\n",
       "<polygon fill=\"black\" points=\"242.5,-388.607 239,-378.607 235.5,-388.607 242.5,-388.607\" stroke=\"black\"/>\n",
       "</g>\n",
       "<!-- 139851391023144 -->\n",
       "<g class=\"node\" id=\"node3\"><title>139851391023144</title>\n",
       "<polygon fill=\"none\" points=\"533,-415.5 533,-461.5 803,-461.5 803,-415.5 533,-415.5\" stroke=\"black\"/>\n",
       "<text font-family=\"Times,serif\" font-size=\"14.00\" text-anchor=\"middle\" x=\"606\" y=\"-434.8\">color_input: InputLayer</text>\n",
       "<polyline fill=\"none\" points=\"679,-415.5 679,-461.5 \" stroke=\"black\"/>\n",
       "<text font-family=\"Times,serif\" font-size=\"14.00\" text-anchor=\"middle\" x=\"706.5\" y=\"-446.3\">input:</text>\n",
       "<polyline fill=\"none\" points=\"679,-438.5 734,-438.5 \" stroke=\"black\"/>\n",
       "<text font-family=\"Times,serif\" font-size=\"14.00\" text-anchor=\"middle\" x=\"706.5\" y=\"-423.3\">output:</text>\n",
       "<polyline fill=\"none\" points=\"734,-415.5 734,-461.5 \" stroke=\"black\"/>\n",
       "<text font-family=\"Times,serif\" font-size=\"14.00\" text-anchor=\"middle\" x=\"768.5\" y=\"-446.3\">(None, 3)</text>\n",
       "<polyline fill=\"none\" points=\"734,-438.5 803,-438.5 \" stroke=\"black\"/>\n",
       "<text font-family=\"Times,serif\" font-size=\"14.00\" text-anchor=\"middle\" x=\"768.5\" y=\"-423.3\">(None, 3)</text>\n",
       "</g>\n",
       "<!-- 139851327974536 -->\n",
       "<g class=\"node\" id=\"node5\"><title>139851327974536</title>\n",
       "<polygon fill=\"none\" points=\"544.5,-332.5 544.5,-378.5 791.5,-378.5 791.5,-332.5 544.5,-332.5\" stroke=\"black\"/>\n",
       "<text font-family=\"Times,serif\" font-size=\"14.00\" text-anchor=\"middle\" x=\"599\" y=\"-351.8\">dense_88: Dense</text>\n",
       "<polyline fill=\"none\" points=\"653.5,-332.5 653.5,-378.5 \" stroke=\"black\"/>\n",
       "<text font-family=\"Times,serif\" font-size=\"14.00\" text-anchor=\"middle\" x=\"681\" y=\"-363.3\">input:</text>\n",
       "<polyline fill=\"none\" points=\"653.5,-355.5 708.5,-355.5 \" stroke=\"black\"/>\n",
       "<text font-family=\"Times,serif\" font-size=\"14.00\" text-anchor=\"middle\" x=\"681\" y=\"-340.3\">output:</text>\n",
       "<polyline fill=\"none\" points=\"708.5,-332.5 708.5,-378.5 \" stroke=\"black\"/>\n",
       "<text font-family=\"Times,serif\" font-size=\"14.00\" text-anchor=\"middle\" x=\"750\" y=\"-363.3\">(None, 3)</text>\n",
       "<polyline fill=\"none\" points=\"708.5,-355.5 791.5,-355.5 \" stroke=\"black\"/>\n",
       "<text font-family=\"Times,serif\" font-size=\"14.00\" text-anchor=\"middle\" x=\"750\" y=\"-340.3\">(None, 100)</text>\n",
       "</g>\n",
       "<!-- 139851391023144&#45;&gt;139851327974536 -->\n",
       "<g class=\"edge\" id=\"edge3\"><title>139851391023144-&gt;139851327974536</title>\n",
       "<path d=\"M668,-415.366C668,-407.152 668,-397.658 668,-388.725\" fill=\"none\" stroke=\"black\"/>\n",
       "<polygon fill=\"black\" points=\"671.5,-388.607 668,-378.607 664.5,-388.607 671.5,-388.607\" stroke=\"black\"/>\n",
       "</g>\n",
       "<!-- 139851529796296 -->\n",
       "<g class=\"node\" id=\"node6\"><title>139851529796296</title>\n",
       "<polygon fill=\"none\" points=\"0,-249.5 0,-295.5 478,-295.5 478,-249.5 0,-249.5\" stroke=\"black\"/>\n",
       "<text font-family=\"Times,serif\" font-size=\"14.00\" text-anchor=\"middle\" x=\"163\" y=\"-268.8\">time_distributed_39(dense_87): TimeDistributed(Dense)</text>\n",
       "<polyline fill=\"none\" points=\"326,-249.5 326,-295.5 \" stroke=\"black\"/>\n",
       "<text font-family=\"Times,serif\" font-size=\"14.00\" text-anchor=\"middle\" x=\"353.5\" y=\"-280.3\">input:</text>\n",
       "<polyline fill=\"none\" points=\"326,-272.5 381,-272.5 \" stroke=\"black\"/>\n",
       "<text font-family=\"Times,serif\" font-size=\"14.00\" text-anchor=\"middle\" x=\"353.5\" y=\"-257.3\">output:</text>\n",
       "<polyline fill=\"none\" points=\"381,-249.5 381,-295.5 \" stroke=\"black\"/>\n",
       "<text font-family=\"Times,serif\" font-size=\"14.00\" text-anchor=\"middle\" x=\"429.5\" y=\"-280.3\">(None, 3, 100)</text>\n",
       "<polyline fill=\"none\" points=\"381,-272.5 478,-272.5 \" stroke=\"black\"/>\n",
       "<text font-family=\"Times,serif\" font-size=\"14.00\" text-anchor=\"middle\" x=\"429.5\" y=\"-257.3\">(None, 3, 100)</text>\n",
       "</g>\n",
       "<!-- 139851391029656&#45;&gt;139851529796296 -->\n",
       "<g class=\"edge\" id=\"edge4\"><title>139851391029656-&gt;139851529796296</title>\n",
       "<path d=\"M239,-332.366C239,-324.152 239,-314.658 239,-305.725\" fill=\"none\" stroke=\"black\"/>\n",
       "<polygon fill=\"black\" points=\"242.5,-305.607 239,-295.607 235.5,-305.607 242.5,-305.607\" stroke=\"black\"/>\n",
       "</g>\n",
       "<!-- 139851327887960 -->\n",
       "<g class=\"node\" id=\"node7\"><title>139851327887960</title>\n",
       "<polygon fill=\"none\" points=\"496,-249.5 496,-295.5 840,-295.5 840,-249.5 496,-249.5\" stroke=\"black\"/>\n",
       "<text font-family=\"Times,serif\" font-size=\"14.00\" text-anchor=\"middle\" x=\"592\" y=\"-268.8\">repeat_vector_44: RepeatVector</text>\n",
       "<polyline fill=\"none\" points=\"688,-249.5 688,-295.5 \" stroke=\"black\"/>\n",
       "<text font-family=\"Times,serif\" font-size=\"14.00\" text-anchor=\"middle\" x=\"715.5\" y=\"-280.3\">input:</text>\n",
       "<polyline fill=\"none\" points=\"688,-272.5 743,-272.5 \" stroke=\"black\"/>\n",
       "<text font-family=\"Times,serif\" font-size=\"14.00\" text-anchor=\"middle\" x=\"715.5\" y=\"-257.3\">output:</text>\n",
       "<polyline fill=\"none\" points=\"743,-249.5 743,-295.5 \" stroke=\"black\"/>\n",
       "<text font-family=\"Times,serif\" font-size=\"14.00\" text-anchor=\"middle\" x=\"791.5\" y=\"-280.3\">(None, 100)</text>\n",
       "<polyline fill=\"none\" points=\"743,-272.5 840,-272.5 \" stroke=\"black\"/>\n",
       "<text font-family=\"Times,serif\" font-size=\"14.00\" text-anchor=\"middle\" x=\"791.5\" y=\"-257.3\">(None, 3, 100)</text>\n",
       "</g>\n",
       "<!-- 139851327974536&#45;&gt;139851327887960 -->\n",
       "<g class=\"edge\" id=\"edge5\"><title>139851327974536-&gt;139851327887960</title>\n",
       "<path d=\"M668,-332.366C668,-324.152 668,-314.658 668,-305.725\" fill=\"none\" stroke=\"black\"/>\n",
       "<polygon fill=\"black\" points=\"671.5,-305.607 668,-295.607 664.5,-305.607 671.5,-305.607\" stroke=\"black\"/>\n",
       "</g>\n",
       "<!-- 139851326821208 -->\n",
       "<g class=\"node\" id=\"node8\"><title>139851326821208</title>\n",
       "<polygon fill=\"none\" points=\"241,-166.5 241,-212.5 665,-212.5 665,-166.5 241,-166.5\" stroke=\"black\"/>\n",
       "<text font-family=\"Times,serif\" font-size=\"14.00\" text-anchor=\"middle\" x=\"328.5\" y=\"-185.8\">concatenate_33: Concatenate</text>\n",
       "<polyline fill=\"none\" points=\"416,-166.5 416,-212.5 \" stroke=\"black\"/>\n",
       "<text font-family=\"Times,serif\" font-size=\"14.00\" text-anchor=\"middle\" x=\"443.5\" y=\"-197.3\">input:</text>\n",
       "<polyline fill=\"none\" points=\"416,-189.5 471,-189.5 \" stroke=\"black\"/>\n",
       "<text font-family=\"Times,serif\" font-size=\"14.00\" text-anchor=\"middle\" x=\"443.5\" y=\"-174.3\">output:</text>\n",
       "<polyline fill=\"none\" points=\"471,-166.5 471,-212.5 \" stroke=\"black\"/>\n",
       "<text font-family=\"Times,serif\" font-size=\"14.00\" text-anchor=\"middle\" x=\"568\" y=\"-197.3\">[(None, 3, 100), (None, 3, 100)]</text>\n",
       "<polyline fill=\"none\" points=\"471,-189.5 665,-189.5 \" stroke=\"black\"/>\n",
       "<text font-family=\"Times,serif\" font-size=\"14.00\" text-anchor=\"middle\" x=\"568\" y=\"-174.3\">(None, 3, 200)</text>\n",
       "</g>\n",
       "<!-- 139851529796296&#45;&gt;139851326821208 -->\n",
       "<g class=\"edge\" id=\"edge6\"><title>139851529796296-&gt;139851326821208</title>\n",
       "<path d=\"M297.194,-249.473C324.437,-239.162 357.053,-226.816 385.387,-216.092\" fill=\"none\" stroke=\"black\"/>\n",
       "<polygon fill=\"black\" points=\"386.704,-219.336 394.818,-212.522 384.226,-212.789 386.704,-219.336\" stroke=\"black\"/>\n",
       "</g>\n",
       "<!-- 139851327887960&#45;&gt;139851326821208 -->\n",
       "<g class=\"edge\" id=\"edge7\"><title>139851327887960-&gt;139851326821208</title>\n",
       "<path d=\"M609.534,-249.473C582.163,-239.162 549.395,-226.816 520.929,-216.092\" fill=\"none\" stroke=\"black\"/>\n",
       "<polygon fill=\"black\" points=\"522.046,-212.773 511.454,-212.522 519.578,-219.323 522.046,-212.773\" stroke=\"black\"/>\n",
       "</g>\n",
       "<!-- 139851326821936 -->\n",
       "<g class=\"node\" id=\"node9\"><title>139851326821936</title>\n",
       "<polygon fill=\"none\" points=\"321,-83.5 321,-129.5 585,-129.5 585,-83.5 321,-83.5\" stroke=\"black\"/>\n",
       "<text font-family=\"Times,serif\" font-size=\"14.00\" text-anchor=\"middle\" x=\"373.5\" y=\"-102.8\">lstm_71: LSTM</text>\n",
       "<polyline fill=\"none\" points=\"426,-83.5 426,-129.5 \" stroke=\"black\"/>\n",
       "<text font-family=\"Times,serif\" font-size=\"14.00\" text-anchor=\"middle\" x=\"453.5\" y=\"-114.3\">input:</text>\n",
       "<polyline fill=\"none\" points=\"426,-106.5 481,-106.5 \" stroke=\"black\"/>\n",
       "<text font-family=\"Times,serif\" font-size=\"14.00\" text-anchor=\"middle\" x=\"453.5\" y=\"-91.3\">output:</text>\n",
       "<polyline fill=\"none\" points=\"481,-83.5 481,-129.5 \" stroke=\"black\"/>\n",
       "<text font-family=\"Times,serif\" font-size=\"14.00\" text-anchor=\"middle\" x=\"533\" y=\"-114.3\">(None, 3, 200)</text>\n",
       "<polyline fill=\"none\" points=\"481,-106.5 585,-106.5 \" stroke=\"black\"/>\n",
       "<text font-family=\"Times,serif\" font-size=\"14.00\" text-anchor=\"middle\" x=\"533\" y=\"-91.3\">(None, 3, 1000)</text>\n",
       "</g>\n",
       "<!-- 139851326821208&#45;&gt;139851326821936 -->\n",
       "<g class=\"edge\" id=\"edge8\"><title>139851326821208-&gt;139851326821936</title>\n",
       "<path d=\"M453,-166.366C453,-158.152 453,-148.658 453,-139.725\" fill=\"none\" stroke=\"black\"/>\n",
       "<polygon fill=\"black\" points=\"456.5,-139.607 453,-129.607 449.5,-139.607 456.5,-139.607\" stroke=\"black\"/>\n",
       "</g>\n",
       "<!-- 139851325517720 -->\n",
       "<g class=\"node\" id=\"node10\"><title>139851325517720</title>\n",
       "<polygon fill=\"none\" points=\"248,-0.5 248,-46.5 658,-46.5 658,-0.5 248,-0.5\" stroke=\"black\"/>\n",
       "<text font-family=\"Times,serif\" font-size=\"14.00\" text-anchor=\"middle\" x=\"373.5\" y=\"-19.8\">output(dense_89): TimeDistributed(Dense)</text>\n",
       "<polyline fill=\"none\" points=\"499,-0.5 499,-46.5 \" stroke=\"black\"/>\n",
       "<text font-family=\"Times,serif\" font-size=\"14.00\" text-anchor=\"middle\" x=\"526.5\" y=\"-31.3\">input:</text>\n",
       "<polyline fill=\"none\" points=\"499,-23.5 554,-23.5 \" stroke=\"black\"/>\n",
       "<text font-family=\"Times,serif\" font-size=\"14.00\" text-anchor=\"middle\" x=\"526.5\" y=\"-8.3\">output:</text>\n",
       "<polyline fill=\"none\" points=\"554,-0.5 554,-46.5 \" stroke=\"black\"/>\n",
       "<text font-family=\"Times,serif\" font-size=\"14.00\" text-anchor=\"middle\" x=\"606\" y=\"-31.3\">(None, 3, 1000)</text>\n",
       "<polyline fill=\"none\" points=\"554,-23.5 658,-23.5 \" stroke=\"black\"/>\n",
       "<text font-family=\"Times,serif\" font-size=\"14.00\" text-anchor=\"middle\" x=\"606\" y=\"-8.3\">(None, 3, 1668)</text>\n",
       "</g>\n",
       "<!-- 139851326821936&#45;&gt;139851325517720 -->\n",
       "<g class=\"edge\" id=\"edge9\"><title>139851326821936-&gt;139851325517720</title>\n",
       "<path d=\"M453,-83.3664C453,-75.1516 453,-65.6579 453,-56.7252\" fill=\"none\" stroke=\"black\"/>\n",
       "<polygon fill=\"black\" points=\"456.5,-56.6068 453,-46.6068 449.5,-56.6069 456.5,-56.6068\" stroke=\"black\"/>\n",
       "</g>\n",
       "</g>\n",
       "</svg>"
      ],
      "text/plain": [
       "<IPython.core.display.SVG object>"
      ]
     },
     "execution_count": 290,
     "metadata": {},
     "output_type": "execute_result"
    }
   ],
   "source": [
    "from IPython.display import SVG\n",
    "from keras.utils.vis_utils import model_to_dot\n",
    "\n",
    "SVG(model_to_dot(model, show_shapes=True).create(prog='dot', format='svg'))"
   ]
  },
  {
   "cell_type": "code",
   "execution_count": 227,
   "metadata": {},
   "outputs": [
    {
     "name": "stdout",
     "output_type": "stream",
     "text": [
      "(1534, 3)\n",
      "(1534, 3)\n"
     ]
    }
   ],
   "source": [
    "print(data.shape)\n",
    "print(np.shape(color_data_in))"
   ]
  },
  {
   "cell_type": "code",
   "execution_count": 229,
   "metadata": {},
   "outputs": [
    {
     "data": {
      "text/plain": [
       "array([  0, 183, 184], dtype=int32)"
      ]
     },
     "execution_count": 229,
     "metadata": {},
     "output_type": "execute_result"
    }
   ],
   "source": [
    "data[0]"
   ]
  },
  {
   "cell_type": "code",
   "execution_count": 293,
   "metadata": {},
   "outputs": [],
   "source": [
    "y = np.zeros((data.shape[0], MAX_LEN, vocab_size))"
   ]
  },
  {
   "cell_type": "code",
   "execution_count": 294,
   "metadata": {},
   "outputs": [],
   "source": [
    "for i, sequence in enumerate(sequences):\n",
    "    for j, w in enumerate(sequence[:3]):\n",
    "        y[i, j, w] = 1"
   ]
  },
  {
   "cell_type": "code",
   "execution_count": 274,
   "metadata": {},
   "outputs": [],
   "source": [
    "np.set_printoptions(threshold=np.inf)"
   ]
  },
  {
   "cell_type": "code",
   "execution_count": 303,
   "metadata": {},
   "outputs": [],
   "source": [
    "model.compile(loss='categorical_crossentropy', optimizer='adam', metrics=['accuracy'])"
   ]
  },
  {
   "cell_type": "code",
   "execution_count": 304,
   "metadata": {},
   "outputs": [
    {
     "name": "stdout",
     "output_type": "stream",
     "text": [
      "____________________________________________________________________________________________________\n",
      "Layer (type)                     Output Shape          Param #     Connected to                     \n",
      "====================================================================================================\n",
      "caption_input (InputLayer)       (None, 3)             0                                            \n",
      "____________________________________________________________________________________________________\n",
      "embedding_28 (Embedding)         (None, 3, 100)        166800      caption_input[0][0]              \n",
      "____________________________________________________________________________________________________\n",
      "color_input (InputLayer)         (None, 3)             0                                            \n",
      "____________________________________________________________________________________________________\n",
      "lstm_70 (LSTM)                   (None, 3, 100)        80400       embedding_28[1][0]               \n",
      "____________________________________________________________________________________________________\n",
      "dense_88 (Dense)                 (None, 100)           400         color_input[0][0]                \n",
      "____________________________________________________________________________________________________\n",
      "time_distributed_39 (TimeDistrib (None, 3, 100)        10100       lstm_70[0][0]                    \n",
      "____________________________________________________________________________________________________\n",
      "repeat_vector_44 (RepeatVector)  (None, 3, 100)        0           dense_88[0][0]                   \n",
      "____________________________________________________________________________________________________\n",
      "concatenate_33 (Concatenate)     (None, 3, 200)        0           time_distributed_39[0][0]        \n",
      "                                                                   repeat_vector_44[0][0]           \n",
      "____________________________________________________________________________________________________\n",
      "lstm_71 (LSTM)                   (None, 3, 1000)       4804000     concatenate_33[0][0]             \n",
      "____________________________________________________________________________________________________\n",
      "output (TimeDistributed)         (None, 3, 1668)       1669668     lstm_71[0][0]                    \n",
      "====================================================================================================\n",
      "Total params: 6,731,368\n",
      "Trainable params: 6,564,568\n",
      "Non-trainable params: 166,800\n",
      "____________________________________________________________________________________________________\n",
      "None\n"
     ]
    }
   ],
   "source": [
    "print(model.summary())"
   ]
  },
  {
   "cell_type": "code",
   "execution_count": 311,
   "metadata": {},
   "outputs": [
    {
     "name": "stdout",
     "output_type": "stream",
     "text": [
      "Epoch 1/60\n",
      "1534/1534 [==============================] - 3s - loss: 4.0612 - acc: 0.0189     \n",
      "Epoch 2/60\n",
      "1534/1534 [==============================] - 1s - loss: 3.7023 - acc: 0.0335     \n",
      "Epoch 3/60\n",
      "1534/1534 [==============================] - 1s - loss: 3.4870 - acc: 0.0478     \n",
      "Epoch 4/60\n",
      "1534/1534 [==============================] - 1s - loss: 3.2566 - acc: 0.0563     \n",
      "Epoch 5/60\n",
      "1534/1534 [==============================] - 1s - loss: 3.0281 - acc: 0.0717     \n",
      "Epoch 6/60\n",
      "1534/1534 [==============================] - 1s - loss: 2.8316 - acc: 0.0847     \n",
      "Epoch 7/60\n",
      "1534/1534 [==============================] - 1s - loss: 2.6652 - acc: 0.0963     \n",
      "Epoch 8/60\n",
      "1534/1534 [==============================] - 1s - loss: 2.5154 - acc: 0.1176     \n",
      "Epoch 9/60\n",
      "1534/1534 [==============================] - 1s - loss: 2.3793 - acc: 0.1321     \n",
      "Epoch 10/60\n",
      "1534/1534 [==============================] - 1s - loss: 2.2469 - acc: 0.1554     \n",
      "Epoch 11/60\n",
      "1534/1534 [==============================] - 1s - loss: 2.1339 - acc: 0.1741     \n",
      "Epoch 12/60\n",
      "1534/1534 [==============================] - 1s - loss: 2.0213 - acc: 0.1953     \n",
      "Epoch 13/60\n",
      "1534/1534 [==============================] - 1s - loss: 1.9325 - acc: 0.2069     \n",
      "Epoch 14/60\n",
      "1534/1534 [==============================] - 1s - loss: 1.8442 - acc: 0.2277     \n",
      "Epoch 15/60\n",
      "1534/1534 [==============================] - 1s - loss: 1.7720 - acc: 0.2351     \n",
      "Epoch 16/60\n",
      "1534/1534 [==============================] - 1s - loss: 1.7140 - acc: 0.2436     \n",
      "Epoch 17/60\n",
      "1534/1534 [==============================] - 1s - loss: 1.6584 - acc: 0.2521     \n",
      "Epoch 18/60\n",
      "1534/1534 [==============================] - 1s - loss: 1.6135 - acc: 0.2566     \n",
      "Epoch 19/60\n",
      "1534/1534 [==============================] - 1s - loss: 1.5738 - acc: 0.2571     \n",
      "Epoch 20/60\n",
      "1534/1534 [==============================] - 1s - loss: 1.5382 - acc: 0.2603     \n",
      "Epoch 21/60\n",
      "1534/1534 [==============================] - 1s - loss: 1.5050 - acc: 0.2616     \n",
      "Epoch 22/60\n",
      "1534/1534 [==============================] - 1s - loss: 1.4707 - acc: 0.2610     \n",
      "Epoch 23/60\n",
      "1534/1534 [==============================] - 1s - loss: 1.4389 - acc: 0.2636     \n",
      "Epoch 24/60\n",
      "1534/1534 [==============================] - 1s - loss: 1.4144 - acc: 0.2634     \n",
      "Epoch 25/60\n",
      "1534/1534 [==============================] - 1s - loss: 1.3886 - acc: 0.2662     \n",
      "Epoch 26/60\n",
      "1534/1534 [==============================] - 1s - loss: 1.3614 - acc: 0.2658     \n",
      "Epoch 27/60\n",
      "1534/1534 [==============================] - 1s - loss: 1.3350 - acc: 0.2738     \n",
      "Epoch 28/60\n",
      "1534/1534 [==============================] - 1s - loss: 1.3077 - acc: 0.2710     \n",
      "Epoch 29/60\n",
      "1534/1534 [==============================] - 1s - loss: 1.2836 - acc: 0.2760     \n",
      "Epoch 30/60\n",
      "1534/1534 [==============================] - 1s - loss: 1.2600 - acc: 0.2755     \n",
      "Epoch 31/60\n",
      "1534/1534 [==============================] - 1s - loss: 1.2347 - acc: 0.2753     \n",
      "Epoch 32/60\n",
      "1534/1534 [==============================] - 1s - loss: 1.2153 - acc: 0.2779     \n",
      "Epoch 33/60\n",
      "1534/1534 [==============================] - 1s - loss: 1.1939 - acc: 0.2781     \n",
      "Epoch 34/60\n",
      "1534/1534 [==============================] - 1s - loss: 1.1728 - acc: 0.2816     \n",
      "Epoch 35/60\n",
      "1534/1534 [==============================] - 1s - loss: 1.1506 - acc: 0.2814     \n",
      "Epoch 36/60\n",
      "1534/1534 [==============================] - 1s - loss: 1.1321 - acc: 0.2827     \n",
      "Epoch 37/60\n",
      "1534/1534 [==============================] - 1s - loss: 1.1104 - acc: 0.2886     \n",
      "Epoch 38/60\n",
      "1534/1534 [==============================] - 1s - loss: 1.0928 - acc: 0.2897     \n",
      "Epoch 39/60\n",
      "1534/1534 [==============================] - 1s - loss: 1.0741 - acc: 0.2910     \n",
      "Epoch 40/60\n",
      "1534/1534 [==============================] - 1s - loss: 1.0525 - acc: 0.2942     \n",
      "Epoch 41/60\n",
      "1534/1534 [==============================] - 1s - loss: 1.0370 - acc: 0.2962     \n",
      "Epoch 42/60\n",
      "1534/1534 [==============================] - 1s - loss: 1.0159 - acc: 0.3014     \n",
      "Epoch 43/60\n",
      "1534/1534 [==============================] - 1s - loss: 0.9992 - acc: 0.3012     \n",
      "Epoch 44/60\n",
      "1534/1534 [==============================] - 1s - loss: 0.9809 - acc: 0.3077     \n",
      "Epoch 45/60\n",
      "1534/1534 [==============================] - 1s - loss: 0.9683 - acc: 0.3086     \n",
      "Epoch 46/60\n",
      "1534/1534 [==============================] - 1s - loss: 0.9494 - acc: 0.3133     \n",
      "Epoch 47/60\n",
      "1534/1534 [==============================] - 1s - loss: 0.9366 - acc: 0.3077     \n",
      "Epoch 48/60\n",
      "1534/1534 [==============================] - 1s - loss: 0.9160 - acc: 0.3194     \n",
      "Epoch 49/60\n",
      "1534/1534 [==============================] - 1s - loss: 0.9011 - acc: 0.3175     \n",
      "Epoch 50/60\n",
      "1534/1534 [==============================] - 1s - loss: 0.8824 - acc: 0.3270     \n",
      "Epoch 51/60\n",
      "1534/1534 [==============================] - 1s - loss: 0.8687 - acc: 0.3257     \n",
      "Epoch 52/60\n",
      "1534/1534 [==============================] - 1s - loss: 0.8551 - acc: 0.3296     \n",
      "Epoch 53/60\n",
      "1534/1534 [==============================] - 1s - loss: 0.8405 - acc: 0.3286     \n",
      "Epoch 54/60\n",
      "1534/1534 [==============================] - 1s - loss: 0.8242 - acc: 0.3364     \n",
      "Epoch 55/60\n",
      "1534/1534 [==============================] - 1s - loss: 0.8152 - acc: 0.3390     \n",
      "Epoch 56/60\n",
      "1534/1534 [==============================] - 1s - loss: 0.7986 - acc: 0.3414     \n",
      "Epoch 57/60\n",
      "1534/1534 [==============================] - 1s - loss: 0.7858 - acc: 0.3464     \n",
      "Epoch 58/60\n",
      "1534/1534 [==============================] - 1s - loss: 0.7716 - acc: 0.3462     \n",
      "Epoch 59/60\n",
      "1534/1534 [==============================] - 1s - loss: 0.7586 - acc: 0.3525     \n",
      "Epoch 60/60\n",
      "1534/1534 [==============================] - 1s - loss: 0.7517 - acc: 0.3551     \n"
     ]
    },
    {
     "data": {
      "text/plain": [
       "<keras.callbacks.History at 0x7f31a7e82630>"
      ]
     },
     "execution_count": 311,
     "metadata": {},
     "output_type": "execute_result"
    }
   ],
   "source": [
    "from keras.callbacks import ModelCheckpoint\n",
    "\n",
    "model_names = ('color_weights.{epoch:02d}-{val_loss:.2f}.hdf5')\n",
    "model_checkpoint = ModelCheckpoint(model_names, monitor='val_loss', verbose=1, save_best_only=False, save_weights_only=False)\n",
    "\n",
    "model.fit({'caption_input': data, 'color_input': color_data_in},\n",
    "          {'output': y},\n",
    "         epochs=60)"
   ]
  },
  {
   "cell_type": "code",
   "execution_count": 395,
   "metadata": {},
   "outputs": [],
   "source": [
    "from IPython.display import Image\n",
    "def generate_random():\n",
    "    text = np.zeros((1,MAX_LEN))\n",
    "    color = np.random.random((1, 3))\n",
    "\n",
    "    hsv = color[0]\n",
    "    \n",
    "    r, g, b = hsv_to_rgb(*hsv)\n",
    "    \n",
    "    words = []\n",
    "    for word in range(2):\n",
    "        pred = model.predict([text, color])\n",
    "        w = np.argmax(pred[0, word, :])\n",
    "        words.append(token_index.get(w))\n",
    "    \n",
    "    fname = ' '.join(words)\n",
    "    print(fname)\n",
    "#     print(r, g, b)\n",
    "    image_fname = os.path.join('/home/ubuntu/', fname + '.jpg')\n",
    "    img = np.zeros([100,100,3],dtype=np.uint8)\n",
    "    img[::].fill(r)\n",
    "    for i in range(100):\n",
    "        for j in range(100):\n",
    "            img[i][j][0] = r * 255\n",
    "            img[i][j][1] = g * 255\n",
    "            img[i][j][2] = b * 255\n",
    "\n",
    "    imsave(image_fname, img)\n",
    "\n",
    "\n",
    "    display(Image(image_fname))"
   ]
  },
  {
   "cell_type": "code",
   "execution_count": 396,
   "metadata": {},
   "outputs": [
    {
     "name": "stdout",
     "output_type": "stream",
     "text": [
      "marsh green\n"
     ]
    },
    {
     "data": {
      "image/jpeg": "[encoded data removed]",
      "text/plain": [
       "<IPython.core.display.Image object>"
      ]
     },
     "metadata": {},
     "output_type": "display_data"
    },
    {
     "name": "stdout",
     "output_type": "stream",
     "text": [
      "black plum\n"
     ]
    },
    {
     "data": {
      "image/jpeg": "[encoded data removed]",
      "text/plain": [
       "<IPython.core.display.Image object>"
      ]
     },
     "metadata": {},
     "output_type": "display_data"
    },
    {
     "name": "stdout",
     "output_type": "stream",
     "text": [
      "loyal red\n"
     ]
    },
    {
     "data": {
      "image/jpeg": "[encoded data removed]",
      "text/plain": [
       "<IPython.core.display.Image object>"
      ]
     },
     "metadata": {},
     "output_type": "display_data"
    },
    {
     "name": "stdout",
     "output_type": "stream",
     "text": [
      "majestic grape\n"
     ]
    },
    {
     "data": {
      "image/jpeg": "[encoded data removed]",
      "text/plain": [
       "<IPython.core.display.Image object>"
      ]
     },
     "metadata": {},
     "output_type": "display_data"
    },
    {
     "name": "stdout",
     "output_type": "stream",
     "text": [
      "major blue\n"
     ]
    },
    {
     "data": {
      "image/jpeg": "[encoded data removed]",
      "text/plain": [
       "<IPython.core.display.Image object>"
      ]
     },
     "metadata": {},
     "output_type": "display_data"
    },
    {
     "name": "stdout",
     "output_type": "stream",
     "text": [
      "dynamic blue\n"
     ]
    },
    {
     "data": {
      "image/jpeg": "[encoded data removed]",
      "text/plain": [
       "<IPython.core.display.Image object>"
      ]
     },
     "metadata": {},
     "output_type": "display_data"
    },
    {
     "name": "stdout",
     "output_type": "stream",
     "text": [
      "web gray\n"
     ]
    },
    {
     "data": {
      "image/jpeg": "[encoded data removed]",
      "text/plain": [
       "<IPython.core.display.Image object>"
      ]
     },
     "metadata": {},
     "output_type": "display_data"
    },
    {
     "name": "stdout",
     "output_type": "stream",
     "text": [
      "youthful coral\n"
     ]
    },
    {
     "data": {
      "image/jpeg": "[encoded data removed]",
      "text/plain": [
       "<IPython.core.display.Image object>"
      ]
     },
     "metadata": {},
     "output_type": "display_data"
    },
    {
     "name": "stdout",
     "output_type": "stream",
     "text": [
      "sturdy ̈¦g\n"
     ]
    },
    {
     "data": {
      "image/jpeg": "[encoded data removed]",
      "text/plain": [
       "<IPython.core.display.Image object>"
      ]
     },
     "metadata": {},
     "output_type": "display_data"
    }
   ],
   "source": [
    "generate_random()\n",
    "generate_random()\n",
    "generate_random()\n",
    "generate_random()\n",
    "generate_random()\n",
    "generate_random()\n",
    "generate_random()\n",
    "generate_random()\n",
    "generate_random()"
   ]
  },
  {
   "cell_type": "code",
   "execution_count": null,
   "metadata": {
    "collapsed": true
   },
   "outputs": [],
   "source": []
  },
  {
   "cell_type": "code",
   "execution_count": 408,
   "metadata": {},
   "outputs": [
    {
     "name": "stdout",
     "output_type": "stream",
     "text": [
      "fountain blue\n"
     ]
    },
    {
     "data": {
      "image/jpeg": "[encoded data removed]",
      "text/plain": [
       "<IPython.core.display.Image object>"
      ]
     },
     "metadata": {},
     "output_type": "display_data"
    },
    {
     "name": "stdout",
     "output_type": "stream",
     "text": [
      "zany pink\n"
     ]
    },
    {
     "data": {
      "image/jpeg": "[encoded data removed]",
      "text/plain": [
       "<IPython.core.display.Image object>"
      ]
     },
     "metadata": {},
     "output_type": "display_data"
    },
    {
     "name": "stdout",
     "output_type": "stream",
     "text": [
      "black grape\n"
     ]
    },
    {
     "data": {
      "image/jpeg": "[encoded data removed]",
      "text/plain": [
       "<IPython.core.display.Image object>"
      ]
     },
     "metadata": {},
     "output_type": "display_data"
    },
    {
     "name": "stdout",
     "output_type": "stream",
     "text": [
      "magnetic gray\n"
     ]
    },
    {
     "data": {
      "image/jpeg": "[encoded data removed]",
      "text/plain": [
       "<IPython.core.display.Image object>"
      ]
     },
     "metadata": {},
     "output_type": "display_data"
    },
    {
     "name": "stdout",
     "output_type": "stream",
     "text": [
      "sturdy gold\n"
     ]
    },
    {
     "data": {
      "image/jpeg": "[encoded data removed]",
      "text/plain": [
       "<IPython.core.display.Image object>"
      ]
     },
     "metadata": {},
     "output_type": "display_data"
    },
    {
     "name": "stdout",
     "output_type": "stream",
     "text": [
      "black country\n"
     ]
    },
    {
     "data": {
      "image/jpeg": "[encoded data removed]",
      "text/plain": [
       "<IPython.core.display.Image object>"
      ]
     },
     "metadata": {},
     "output_type": "display_data"
    },
    {
     "name": "stdout",
     "output_type": "stream",
     "text": [
      "snowfall white\n"
     ]
    },
    {
     "data": {
      "image/jpeg": "[encoded data removed]",
      "text/plain": [
       "<IPython.core.display.Image object>"
      ]
     },
     "metadata": {},
     "output_type": "display_data"
    },
    {
     "name": "stdout",
     "output_type": "stream",
     "text": [
      "real blue\n"
     ]
    },
    {
     "data": {
      "image/jpeg": "[encoded data removed]",
      "text/plain": [
       "<IPython.core.display.Image object>"
      ]
     },
     "metadata": {},
     "output_type": "display_data"
    },
    {
     "name": "stdout",
     "output_type": "stream",
     "text": [
      "dynamic blue\n"
     ]
    },
    {
     "data": {
      "image/jpeg": "[encoded data removed]",
      "text/plain": [
       "<IPython.core.display.Image object>"
      ]
     },
     "metadata": {},
     "output_type": "display_data"
    }
   ],
   "source": [
    "generate_random()\n",
    "generate_random()\n",
    "generate_random()\n",
    "generate_random()\n",
    "generate_random()\n",
    "generate_random()\n",
    "generate_random()\n",
    "generate_random()\n",
    "generate_random()"
   ]
  },
  {
   "cell_type": "code",
   "execution_count": 410,
   "metadata": {},
   "outputs": [
    {
     "data": {
      "text/plain": [
       "[[1, 2, 3]]"
      ]
     },
     "execution_count": 410,
     "metadata": {},
     "output_type": "execute_result"
    }
   ],
   "source": [
    "np.random.random((1,3))\n",
    "[[1, 2, 3]]"
   ]
  },
  {
   "cell_type": "code",
   "execution_count": 451,
   "metadata": {
    "collapsed": true
   },
   "outputs": [],
   "source": [
    "from IPython.display import Image\n",
    "def generate_name(h, s, v):\n",
    "    text = np.zeros((1,MAX_LEN))\n",
    "    color = np.array([[ h, s, v]])\n",
    "\n",
    "    r, g, b = hsv_to_rgb(h, s, v)\n",
    "    \n",
    "    words = []\n",
    "    for word in range(2):\n",
    "        pred = model.predict([text, color])\n",
    "        w = np.argmax(pred[0, word, :])\n",
    "        words.append(token_index.get(w))\n",
    "    \n",
    "    fname = ' '.join(words)\n",
    "    print(fname)\n",
    "#     print(r, g, b)\n",
    "    image_fname = os.path.join('/home/ubuntu/', fname + '.jpg')\n",
    "    img = np.zeros([200,200,3],dtype=np.uint8)\n",
    "    img[::].fill(r)\n",
    "    for i in range(200):\n",
    "        for j in range(200):\n",
    "            img[i][j][0] = r * 255\n",
    "            img[i][j][1] = g * 255\n",
    "            img[i][j][2] = b * 255\n",
    "\n",
    "    #    img = cv2.putText(img, fname, (10, 30), cv2.FONT_HERSHEY_SIMPLEX, 1, (255,255,255), 2)\n",
    "    imsave(image_fname, img)\n",
    "\n",
    "    display(Image(image_fname))"
   ]
  },
  {
   "cell_type": "code",
   "execution_count": 452,
   "metadata": {},
   "outputs": [
    {
     "data": {
      "application/vnd.jupyter.widget-view+json": {
       "model_id": "a7035917d3c749d08b7a1f80b88a5d6b"
      }
     },
     "metadata": {},
     "output_type": "display_data"
    },
    {
     "data": {
      "text/plain": [
       "<function __main__.generate_name>"
      ]
     },
     "execution_count": 452,
     "metadata": {},
     "output_type": "execute_result"
    }
   ],
   "source": [
    "from __future__ import print_function\n",
    "from ipywidgets import interact, interactive, fixed, interact_manual\n",
    "\n",
    "interact(generate_name, h=(0.0, 1.0, 0.05), s=(0.0, 1.0, 0.05), v=(0.0, 1.0, 0.05))"
   ]
  },
  {
   "cell_type": "code",
   "execution_count": 453,
   "metadata": {
    "collapsed": true
   },
   "outputs": [],
   "source": [
    "model.save('final.h5')"
   ]
  },
  {
   "cell_type": "code",
   "execution_count": null,
   "metadata": {
    "collapsed": true
   },
   "outputs": [],
   "source": []
  }
 ],
 "metadata": {
  "kernelspec": {
   "display_name": "Python 3",
   "language": "python",
   "name": "python3"
  },
  "language_info": {
   "codemirror_mode": {
    "name": "ipython",
    "version": 3
   },
   "file_extension": ".py",
   "mimetype": "text/x-python",
   "name": "python",
   "nbconvert_exporter": "python",
   "pygments_lexer": "ipython3",
   "version": "3.5.3"
  }
 },
 "nbformat": 4,
 "nbformat_minor": 2
}
